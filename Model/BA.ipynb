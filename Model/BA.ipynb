{
 "cells": [
  {
   "cell_type": "code",
   "execution_count": 1,
   "metadata": {},
   "outputs": [],
   "source": [
    "import numpy as np\n",
    "import matplotlib.pyplot as plt\n",
    "from sympy import symbols, nsolve\n",
    "from sympy import cosh, sin , sinh, cos,exp\n",
    "from scipy.optimize import fsolve\n",
    "from scipy.integrate import quad"
   ]
  },
  {
   "cell_type": "markdown",
   "metadata": {},
   "source": [
    "# System constants\n",
    "e2, $\\hbar$ ,amu, Q, parameter P"
   ]
  },
  {
   "cell_type": "code",
   "execution_count": 2,
   "metadata": {},
   "outputs": [],
   "source": [
    "e2=1.43997 ; hbarc=197.3269718 ; amu=931.4943\n",
    "z1=82 ; m1=207\n",
    "z2=2 ; m2=4\n",
    "Q=7.599\n",
    "mu=m1*m2/(m1+m2)*amu"
   ]
  },
  {
   "cell_type": "markdown",
   "metadata": {},
   "source": [
    "# Para's values of pot  \n",
    "$v_0,a_0,r_0$  \n",
    "$r_c=r_0$"
   ]
  },
  {
   "cell_type": "code",
   "execution_count": 3,
   "metadata": {},
   "outputs": [],
   "source": [
    "v0=162.3 ; a0=0.4 ; r0=7.107 ; l=5 ; P=0.3"
   ]
  },
  {
   "cell_type": "markdown",
   "metadata": {},
   "source": [
    "# Physical model section\n",
    "$V_N$: cosh           \n",
    "$V_C$: piecewise    \n",
    "$V_{pot}$: $V_N+V_C+(l+\\frac{1}{2})^2/r^2$  \n",
    "$k(r)=\\sqrt{\\frac{2\\mu}{\\hbar^2}|Q-V(r)|}$  \n",
    "$F\\int_{r_1}^{r_2}dr \\frac{1}{k(r)}cos^2[\\int_{r_1}^rdr'k(r')-\\frac{\\pi}{4}]=1$  \n",
    "F=$1/\\int_{r_1}^{r_2}dr \\frac{1}{k(r)}cos^2[\\int_{r_1}^rdr'k(r')-\\frac{\\pi}{4}]$\n",
    "Def wave number k and $\\Gamma=PF\\frac{\\hbar^2}{4\\mu}exp[-2\\int_{r_2}^{r_3} k(r)dr]$   \n",
    "$T_{1/2}=\\hbar ln2/\\Gamma$"
   ]
  },
  {
   "cell_type": "code",
   "execution_count": 4,
   "metadata": {},
   "outputs": [],
   "source": [
    "def wspot(r,v0,a0,r0):\n",
    "    return -v0*(1+np.cosh(r0/a0))/(np.cosh(r/a0)+np.cosh(r0/a0))\n",
    "\n",
    "def vc(r,z1,z2,rc):\n",
    "    return np.where(\n",
    "        r < rc,\n",
    "        z1 * z2 * e2 * (3 - r**2 / rc**2) /(2 * rc),\n",
    "        z1 * z2 * e2 / r\n",
    "    )\n",
    "    \n",
    "def vpot(r,v0,a0,r0,z1,z2,rc,l):\n",
    "    return wspot(r,v0,a0,r0)+vc(r,z1,z2,rc)+(l+0.5)**2/r**2*hbarc**2/(2*mu)"
   ]
  },
  {
   "cell_type": "code",
   "execution_count": 5,
   "metadata": {},
   "outputs": [],
   "source": [
    "def Model(m1,m2,z1,z2,l,Q,v0,a0,r0,P):\n",
    "    rc=r0\n",
    "\n",
    "    def f(r):\n",
    "        return vpot(r, v0, a0, r0, z1, z2, rc, l)-Q\n",
    "\n",
    "    x_values = np.linspace(0.1, 80, 100)\n",
    "    f_values = f(x_values)\n",
    "    roots = []\n",
    "\n",
    "    for i in range(len(f_values) - 1):\n",
    "        # Check for a sign change\n",
    "        if np.sign(f_values[i]) != np.sign(f_values[i + 1]):\n",
    "            # Estimate root using fsolve, starting from the midpoint\n",
    "            guess = (x_values[i] + x_values[i + 1]) / 2\n",
    "            root = fsolve(f, guess)[0]\n",
    "            # Avoid duplicate roots\n",
    "            if root > 0 and not any(np.isclose(root, r, atol=1e-5) for r in roots):\n",
    "                roots.append(root)\n",
    "\n",
    "    roots.sort()        # sort from small roots to large roots\n",
    "\n",
    "\n",
    "    def k(r):\n",
    "        return np.sqrt(2*mu/hbarc**2*np.abs(Q-vpot(r,v0,a0,r0,z1,z2,rc,l))) \n",
    "    #内部积分函数\n",
    "    def inner_integral(r):\n",
    "        result, _ = quad(k, roots[0], r)\n",
    "        return result\n",
    "    #被积函数\n",
    "    def integrand(r):\n",
    "        inner_int = inner_integral(r)\n",
    "        return (1 / k(r)) * np.cos(inner_int - np.pi / 4)**2\n",
    "\n",
    "    integral_result, _ = quad(integrand, roots[0], roots[1])    \n",
    "    F=1/integral_result\n",
    "\n",
    "    result,_=quad(k,roots[1],roots[2])\n",
    "    # print(\"result:\",result)\n",
    "\n",
    "    gamma=P*F*hbarc**2/(4*mu)*exp(-2*result)\n",
    "    print(\"gamma:\",gamma,\"MeV\")\n",
    "\n",
    "    T_half=hbarc*np.log(2)/gamma\n",
    "    print(\"T_half:\",T_half,\"fm\")\n",
    "\n",
    "    T_half=T_half*1e-23/3\n",
    "    print('T_half',T_half,'s')\n",
    "\n",
    "    return T_half"
   ]
  },
  {
   "cell_type": "code",
   "execution_count": null,
   "metadata": {},
   "outputs": [],
   "source": [
    "test=Model(m1,m2,z1,z2,l,Q,v0,a0,r0,P)\n",
    "# print(test)"
   ]
  },
  {
   "cell_type": "markdown",
   "metadata": {},
   "source": [
    "# emcee to mcmc the log posterior\n",
    "log_posterior function:  \n",
    "y: data  $\\to$ lifetime $T_{1/2}$  \n",
    "sigma: data point uncertainty  \n",
    "a: para vector"
   ]
  },
  {
   "cell_type": "code",
   "execution_count": 7,
   "metadata": {},
   "outputs": [],
   "source": [
    "y=np.array([0.516]) #实验数据: 207Pb\n",
    "sigma=np.array([0.01])\n",
    "\n",
    "def log_prior(a):\n",
    "    vv,aa,rr,pp=a\n",
    "    R=0.5\n",
    "    sigma_v=2*R\n",
    "    sigma_a=0.1*R\n",
    "    sigma_r=0.5*R\n",
    "    sigma_P=0.1*R\n",
    "\n",
    "    prior_v=-0.5*(vv-v0)**2/sigma_v**2\n",
    "    prior_a=-0.5*(aa-a0)**2/sigma_a**2\n",
    "    prior_r=-0.5*(rr-r0)**2/sigma_r**2\n",
    "    prior_P=-0.5*(pp-P0)**2/sigma_P**2\n",
    "\n",
    "    return prior_v+prior_a+prior_r+prior_P\n",
    "\n",
    "def log_posterior(a,y,sigma,m1,m2,z1,z2,l,Q):\n",
    "\n",
    "    prior_value=log_prior(a)   \n",
    "    f=Model(m1,m2,z1,z2,l,Q,a[0],a[1],a[2],a[3])\n",
    "\n",
    "    return -0.5*(y-f)**2/sigma**2+log_prior(a)"
   ]
  },
  {
   "cell_type": "markdown",
   "metadata": {},
   "source": [
    "M: number of paras for BA"
   ]
  },
  {
   "cell_type": "code",
   "execution_count": null,
   "metadata": {},
   "outputs": [],
   "source": [
    "M=4 \n",
    "nwalkers=2*M\n",
    "initial_pos = [v0, a0, r0, P0]\n",
    "perturbation_scale = [0.1, 0.01, 0.1, 0.01]  # 每个参数的扰动大小\n",
    "\n",
    "a = np.array([initial_pos + np.random.normal(0, perturbation_scale, M) for _ in range(nwalkers)])\n",
    "\n",
    "print(a)"
   ]
  },
  {
   "cell_type": "code",
   "execution_count": null,
   "metadata": {},
   "outputs": [],
   "source": [
    "import emcee\n",
    "sampler = emcee.EnsembleSampler(nwalkers, M, log_posterior, args=[y,sigma,m1,m2,z1,z2,l,Q],a=0.2,pool=pool)\n",
    "state = sampler.run_mcmc(a, 200)\n",
    "sampler.reset()\n",
    "sampler.run_mcmc(state,2000)"
   ]
  },
  {
   "cell_type": "markdown",
   "metadata": {},
   "source": [
    "# corner to give posterior figures"
   ]
  },
  {
   "cell_type": "code",
   "execution_count": null,
   "metadata": {},
   "outputs": [],
   "source": [
    "import prettyplease\n",
    "samples = sampler.get_chain(flat=True)\n",
    "# plt.hist(samples[:,3], 100, color=\"k\", histtype=\"step\", density=True)\n",
    "# plt.xlabel(r\"$\\theta$\")\n",
    "# plt.ylabel(r\"$p(\\theta|D)$\")\n",
    "# plt.gca().set_yticks([]);\n",
    "labels = [\"$v_0$\", \"$a_0$\", \"$r_0$\", \"$P_0$\"]\n",
    "fig = prettyplease.corner(samples,labels=labels)\n",
    "plt.show()  "
   ]
  }
 ],
 "metadata": {
  "kernelspec": {
   "display_name": "base",
   "language": "python",
   "name": "python3"
  },
  "language_info": {
   "codemirror_mode": {
    "name": "ipython",
    "version": 3
   },
   "file_extension": ".py",
   "mimetype": "text/x-python",
   "name": "python",
   "nbconvert_exporter": "python",
   "pygments_lexer": "ipython3",
   "version": "3.12.3"
  }
 },
 "nbformat": 4,
 "nbformat_minor": 2
}
