{
 "cells": [
  {
   "cell_type": "code",
   "execution_count": 45,
   "metadata": {},
   "outputs": [],
   "source": [
    "import numpy as np\n",
    "import matplotlib.pyplot as plt"
   ]
  },
  {
   "cell_type": "markdown",
   "metadata": {},
   "source": [
    "# System constants\n",
    "e2=1.44"
   ]
  },
  {
   "cell_type": "code",
   "execution_count": 46,
   "metadata": {},
   "outputs": [],
   "source": [
    "e2=1.44\n",
    "z1=81 ; m1=205\n",
    "z2=2 ; m2=4"
   ]
  },
  {
   "cell_type": "markdown",
   "metadata": {},
   "source": [
    "# Physical model section\n",
    "$V_N$: WS type           \n",
    "$V_C$: piecewise type       \n",
    "$V_{pot}$: $V_N+V_C$"
   ]
  },
  {
   "cell_type": "code",
   "execution_count": 47,
   "metadata": {},
   "outputs": [],
   "source": [
    "def wspot(r,v0,a0,r0):\n",
    "    return -v0/(1+np.exp((r-r0)/a0))\n",
    "\n",
    "def vc(r,z1,z2,rc):\n",
    "    return np.where(\n",
    "        r < rc,\n",
    "        z1 * z2 * e2 * (3 - r**2 / rc**2) / rc,\n",
    "        z1 * z2 * e2 / r\n",
    "    )\n",
    "    \n",
    "def vpot(r,v0,a0,r0,z1,z2,rc):\n",
    "    return wspot(r,v0,a0,r0)+vc(r,z1,z2,rc)"
   ]
  },
  {
   "cell_type": "code",
   "execution_count": null,
   "metadata": {},
   "outputs": [],
   "source": [
    "r = np.linspace(0.1, 10, 500)\n",
    "potential1 = vc(r,z1,z2,1)\n",
    "potential2 = vpot(r, 100, 1, 1, z1, z2, 2)\n",
    "potential3 = wspot(r, 100, 1, 1)\n",
    "plt.plot(r, potential1, label='Potential 1')\n",
    "plt.plot(r, potential2, label='Potential 2')\n",
    "plt.plot(r, potential3, label='Potential 3')\n",
    "plt.xlabel('r')\n",
    "plt.ylabel('V(r)')\n",
    "plt.show()\n"
   ]
  }
 ],
 "metadata": {
  "kernelspec": {
   "display_name": "base",
   "language": "python",
   "name": "python3"
  },
  "language_info": {
   "codemirror_mode": {
    "name": "ipython",
    "version": 3
   },
   "file_extension": ".py",
   "mimetype": "text/x-python",
   "name": "python",
   "nbconvert_exporter": "python",
   "pygments_lexer": "ipython3",
   "version": "3.12.3"
  }
 },
 "nbformat": 4,
 "nbformat_minor": 2
}
