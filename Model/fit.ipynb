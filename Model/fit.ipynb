{
 "cells": [
  {
   "cell_type": "code",
   "execution_count": 73,
   "metadata": {},
   "outputs": [],
   "source": [
    "import numpy as np\n",
    "import matplotlib.pyplot as plt\n",
    "import itertools"
   ]
  },
  {
   "cell_type": "markdown",
   "metadata": {},
   "source": [
    "Prior: (naturalness)\n",
    "$$prior(\\boldsymbol{a}|M,R)=(\\frac{1}{\\sqrt{2\\pi}R})^{M+1}exp(-\\frac{\\boldsymbol{a}^2}{2R^2})\n",
    "\n",
    "$$"
   ]
  },
  {
   "cell_type": "code",
   "execution_count": 74,
   "metadata": {},
   "outputs": [],
   "source": [
    "def prior(a,M,R):\n",
    "    constant = np.power(1 / (np.sqrt(2 * np.pi) * R), M + 1)\n",
    "    exp_part = np.exp(-np.power(a, 2) / (2 * np.power(R, 2)))\n",
    "    return constant * exp_part"
   ]
  },
  {
   "cell_type": "markdown",
   "metadata": {},
   "source": [
    "generate data from function $g(x)=(\\frac{1}{2}+tan(\\frac{\\pi}{2}x))^2$(which is precise value)  \n",
    "with relative error of each 'experimental points' being constant $c$  \n",
    "the number of mesh (or $x$ points) $N$"
   ]
  },
  {
   "cell_type": "code",
   "execution_count": 75,
   "metadata": {},
   "outputs": [],
   "source": [
    "def g(x):\n",
    "    return (0.5 + np.tan(np.pi * x / 2))**2\n",
    "\n",
    "c=0.05\n",
    "N=10"
   ]
  },
  {
   "cell_type": "markdown",
   "metadata": {},
   "source": [
    "generate mesh $x$ within domain $D_1=[0,\\frac{2}{\\pi}]$, $N$ points  "
   ]
  },
  {
   "cell_type": "code",
   "execution_count": 76,
   "metadata": {},
   "outputs": [
    {
     "name": "stdout",
     "output_type": "stream",
     "text": [
      "x:\n",
      "[0.         0.07073553 0.14147106 0.21220659 0.28294212 0.35367765\n",
      " 0.42441318 0.49514871 0.56588424 0.63661977]\n"
     ]
    }
   ],
   "source": [
    "x=np.linspace(0,2/np.pi,N)\n",
    "print('x:')\n",
    "print(x)"
   ]
  },
  {
   "cell_type": "markdown",
   "metadata": {},
   "source": [
    "eta is used to generate 'experiment data' (virtually), which follows a normal distribution, for each data point there is a corresponding $\\sigma_{\\eta_i}$    \n",
    "$\\sigma_{\\eta}=1,\\bar{\\eta}=0$, $\\eta \\sim N(0,\\sigma_\\eta)$  \n",
    "then generate 'data points' by $y(x_i)=g(x_i)(1+c\\eta_i)$  \n",
    "and $\\sigma_i=cy(x_i)$"
   ]
  },
  {
   "cell_type": "code",
   "execution_count": 77,
   "metadata": {},
   "outputs": [
    {
     "name": "stdout",
     "output_type": "stream",
     "text": [
      "y:\n",
      "[0.26021553 0.40105398 0.54362426 0.71661172 1.02783201 1.15310085\n",
      " 1.71595044 2.20747166 2.87715686 3.98767719]\n",
      "sigma:\n",
      "[0.01301078 0.0200527  0.02718121 0.03583059 0.0513916  0.05765504\n",
      " 0.08579752 0.11037358 0.14385784 0.19938386]\n"
     ]
    }
   ],
   "source": [
    "sigma_eta=1\n",
    "eta=np.random.normal(0,sigma_eta,N)\n",
    "y=g(x)*(1+c*eta)\n",
    "sigma=c*y\n",
    "#-----------------------------------\n",
    "print('y:')\n",
    "print(y)\n",
    "print('sigma:')\n",
    "print(sigma)"
   ]
  },
  {
   "cell_type": "code",
   "execution_count": 78,
   "metadata": {},
   "outputs": [
    {
     "data": {
      "image/png": "[encoded data removed]",
      "text/plain": [
       "<Figure size 640x480 with 1 Axes>"
      ]
     },
     "metadata": {},
     "output_type": "display_data"
    }
   ],
   "source": [
    "plt.plot(x,y,'gx-',label='y')\n",
    "plt.plot(x,g(x),'r-',label='g(x)')\n",
    "plt.legend()\n",
    "\n",
    "plt.show()"
   ]
  },
  {
   "cell_type": "markdown",
   "metadata": {},
   "source": [
    "order of polynominal $M$  \n",
    "sample parameter($M+1$ rows, $N_{par}$ columns)  \n",
    "$Npar$ parameters for each $a_i$"
   ]
  },
  {
   "cell_type": "code",
   "execution_count": 79,
   "metadata": {},
   "outputs": [
    {
     "name": "stdout",
     "output_type": "stream",
     "text": [
      "params:\n",
      "[[  5.87371945   4.30013191  -6.09725906   3.40650568  -1.39613843\n",
      "   11.35461328   8.1139935   -7.05576986  -7.15978848   5.68482481\n",
      "   -6.51430871 -11.22916156   4.96871685  -1.76325328   1.99232507\n",
      "    8.33518233 -10.50084615   2.98375226  -3.54669552   6.03917748]\n",
      " [  4.02498225   8.50144242   8.61516472  11.76426135   2.52702911\n",
      "    7.15647249  -0.10660971  -0.09472163   3.28119144   2.85456728\n",
      "   -6.14040345   3.4240966   -6.10966734  -2.96725015   2.91326334\n",
      "   -3.31490963 -11.37109493   6.63442704  -0.59798701   0.43160907]\n",
      " [ -1.40161879  -5.85568912  -1.77680463  -4.32853457   6.30134421\n",
      "   -5.83340331   4.14615546   3.42660893 -11.30873538  -1.03889707\n",
      "   -3.39386901   3.2124107    1.99588356  -0.66335737  -0.39334688\n",
      "    7.66487159   1.60079367   1.36579962  -6.09098994   1.1970028 ]\n",
      " [ -3.41696249   6.08313232   2.16966518   6.06161129   6.94442368\n",
      "    0.08511304  -5.52161917   5.14350647  -5.02224317   8.35159285\n",
      "    2.27748124  -3.40075744   6.84324357  -3.70741799 -12.16268489\n",
      "   -5.48454856 -11.43741622   6.29692984  -5.69413781  -3.12484597]]\n"
     ]
    }
   ],
   "source": [
    "M=3\n",
    "Npar=20\n",
    "R=5\n",
    "# params=[]\n",
    "# for _ in range(M+1):\n",
    "#     param_values=np.linspace(-5,5,Npar)\n",
    "#     params.append(param_values)\n",
    "\n",
    "# params = np.array(params)\n",
    "def generate_samples(M, R, num_samples):\n",
    "    # Generate samples from the Gaussian distribution\n",
    "    samples = np.random.normal(0, R, size=(M+1, num_samples))\n",
    "    \n",
    "    return samples\n",
    "params=generate_samples(M, R, Npar)\n",
    "print('params:')\n",
    "print(params)"
   ]
  },
  {
   "cell_type": "markdown",
   "metadata": {},
   "source": [
    "define polynominal function  \n",
    "chi square: $\\chi^2=\\sum_{i} \\frac{(y_i-f_i)^2}{\\sigma_i} $  \n",
    "likelihood: $p(D|\\alpha)=exp(-\\frac{1}{2}\\chi^2)$"
   ]
  },
  {
   "cell_type": "code",
   "execution_count": null,
   "metadata": {},
   "outputs": [],
   "source": [
    "#def polynomial function\n",
    "def polynomial(para,x):\n",
    "    return np.polyval(para,x)\n",
    "\n",
    "#def chi-square function\n",
    "def chi_square(y, f, sigma):\n",
    "    return np.sum(((y-f)**2)/sigma**2)\n",
    "\n",
    "#def likelyhood function\n",
    "def likelihood(y, f, sigma):\n",
    "    chi_sq = chi_square(y, f, sigma)\n",
    "    return np.exp(-0.5 * chi_sq)\n",
    "    "
   ]
  },
  {
   "cell_type": "markdown",
   "metadata": {},
   "source": [
    "create an empty likelihood array"
   ]
  },
  {
   "cell_type": "code",
   "execution_count": null,
   "metadata": {},
   "outputs": [],
   "source": [
    "likelihoods = np.zeros((Npar,) * (M+1))\n",
    "print(likelihoods.shape)"
   ]
  },
  {
   "cell_type": "markdown",
   "metadata": {},
   "source": [
    "Create a zero parameter array"
   ]
  },
  {
   "cell_type": "code",
   "execution_count": null,
   "metadata": {},
   "outputs": [],
   "source": [
    "\n",
    "para=np.zeros(M+1)\n",
    "print(para.shape)\n",
    "print(para)"
   ]
  },
  {
   "cell_type": "markdown",
   "metadata": {},
   "source": [
    " 遍历所有参数的组合  \n",
    " 选择参数  \n",
    " 计算模型的预测值  \n",
    " 计算似然函数值  "
   ]
  },
  {
   "cell_type": "code",
   "execution_count": null,
   "metadata": {},
   "outputs": [],
   "source": [
    "\n",
    "for index in itertools.product(range(Npar), repeat=M+1):\n",
    "    \n",
    "    for i in range(params.shape[0]):\n",
    "        para[i]=params[i,index[i]]\n",
    "   # para = params[:, index]\n",
    "    \n",
    "    f = polynomial(para, x)\n",
    "    \n",
    "    print(chi_square(y, f, sigma))\n",
    "    likelihoods[index] = likelihood(y, f, sigma)\n",
    "\n",
    "print(likelihoods.max()) \n",
    "\n",
    "\n",
    "\n"
   ]
  }
 ],
 "metadata": {
  "kernelspec": {
   "display_name": "Python 3",
   "language": "python",
   "name": "python3"
  },
  "language_info": {
   "codemirror_mode": {
    "name": "ipython",
    "version": 3
   },
   "file_extension": ".py",
   "mimetype": "text/x-python",
   "name": "python",
   "nbconvert_exporter": "python",
   "pygments_lexer": "ipython3",
   "version": "3.12.3"
  }
 },
 "nbformat": 4,
 "nbformat_minor": 2
}
